{
 "cells": [
  {
   "cell_type": "code",
   "execution_count": 1,
   "metadata": {},
   "outputs": [
    {
     "name": "stderr",
     "output_type": "stream",
     "text": [
      "/home/shared/anaconda3/lib/python3.6/site-packages/h5py/__init__.py:36: FutureWarning: Conversion of the second argument of issubdtype from `float` to `np.floating` is deprecated. In future, it will be treated as `np.float64 == np.dtype(float).type`.\n",
      "  from ._conv import register_converters as _register_converters\n",
      "Using TensorFlow backend.\n"
     ]
    }
   ],
   "source": [
    "from keras.models import Sequential\n",
    "from keras.layers import Dense, Activation, Embedding\n",
    "from keras.layers import LSTM"
   ]
  },
  {
   "cell_type": "markdown",
   "metadata": {},
   "source": [
    "Load the packages we need"
   ]
  },
  {
   "cell_type": "code",
   "execution_count": 2,
   "metadata": {},
   "outputs": [],
   "source": [
    "import numpy as np\n",
    "import collections\n",
    "import pandas as pd\n",
    "import string\n",
    "from sklearn import svm\n",
    "from sklearn.model_selection import cross_val_score\n",
    "from sklearn.svm import SVC\n",
    "from sklearn.model_selection import StratifiedShuffleSplit\n",
    "from sklearn.model_selection import GridSearchCV"
   ]
  },
  {
   "cell_type": "code",
   "execution_count": 3,
   "metadata": {},
   "outputs": [],
   "source": [
    "def buildModel(X_train,y_train,X_test,y_test,batch_size):\n",
    "    print('Build model...')\n",
    "    model = Sequential()\n",
    "    #model.add(Embedding(max_features, 128, dropout=0.2))\n",
    "    model.add(LSTM(128, dropout_W=0.2, dropout_U=0.2))  # try using a GRU instead, for fun\n",
    "    model.add(Dense(1))\n",
    "    model.add(Activation('softmax'))\n",
    "\n",
    "    model.compile(loss='categorical-crossentropy',\n",
    "                  optimizer='adam',\n",
    "                  metrics=['accuracy'])\n",
    "\n",
    "    print('Train...')\n",
    "    model.fit(X_train, y_train, batch_size=batch_size, nb_epoch=10,\n",
    "              validation_data=(X_test, y_test))\n",
    "    score, acc = model.evaluate(X_test, y_test,\n",
    "                                batch_size=batch_size)\n",
    "    print('Test score:', score)\n",
    "    print('Test accuracy:', acc)"
   ]
  },
  {
   "cell_type": "code",
   "execution_count": 6,
   "metadata": {},
   "outputs": [],
   "source": [
    "DEFAULT_FILE_PATH = './data/glove.6B.50d.txt'"
   ]
  },
  {
   "cell_type": "code",
   "execution_count": 7,
   "metadata": {},
   "outputs": [],
   "source": [
    "def loadGloveToDict(filePath = DEFAULT_FILE_PATH):\n",
    "    \"\"\"\n",
    "    Build the dictionary for the GLove.\n",
    "    :return: a dicitonary with word as the key and the glove vector\n",
    "    as the value(an array).\n",
    "    \"\"\"\n",
    "    res = collections.defaultdict[list]\n",
    "    with open(filePath) as f:\n",
    "        for line in f:\n",
    "            line = line.strip()\n",
    "            if(not line):\n",
    "                continue\n",
    "            row = line.split()\n",
    "            token = row[0]\n",
    "            data = [float(x) for x in row[1:]]\n",
    "            data = np.array(data)\n",
    "            res[token] = data\n",
    "    return res"
   ]
  },
  {
   "cell_type": "code",
   "execution_count": 8,
   "metadata": {},
   "outputs": [],
   "source": [
    "def load_review_dataset(path):\n",
    "    with open(path,'r',encoding='utf8') as f:\n",
    "        content = f.readlines()\n",
    "    res = []\n",
    "    for line in content:\n",
    "        a = line.strip('.').lower().split()\n",
    "        b = []\n",
    "        exclude = set(string.punctuation)\n",
    "        for word in a:\n",
    "            word = ''.join(ch for ch in word if ch not in exclude)\n",
    "            b.append(word)\n",
    "        res.append(b)\n",
    "    # res = [line.strip('.').lower().split() for line in content]\n",
    "    return res"
   ]
  },
  {
   "cell_type": "code",
   "execution_count": 9,
   "metadata": {},
   "outputs": [],
   "source": [
    "def getAverageGloveFromDict(messages):\n",
    "    \"\"\"\n",
    "    Build a dictionary and use that to get the glove vector\n",
    "    :param messages: All the comments. Each row represent one comment\n",
    "    :return: the average glove vectors for each comment\n",
    "    \"\"\"\n",
    "    numRows = len(messages)\n",
    "    resArrays = np.zeros([numRows,50])\n",
    "    #Build the word dict from glove first\n",
    "    gloveDict = loadGloveToDict()\n",
    "    for i in range(numRows):\n",
    "        message = messages[i]\n",
    "        wordVector = np.zeros(50)\n",
    "        for word in message:\n",
    "            if(word in gloveDict):\n",
    "                wordVector = np.stack([wordVector,gloveDict[word]])\n",
    "        wordVector = np.mean(wordVector)\n",
    "        resArrays[i,:] = wordVector\n",
    "    return resArrays"
   ]
  },
  {
   "cell_type": "code",
   "execution_count": 10,
   "metadata": {},
   "outputs": [],
   "source": [
    "def transform_text(messages, word_dictionary):\n",
    "    numRows = len(messages)\n",
    "    print(numRows)\n",
    "    numCols = max(word_dictionary.values())+1\n",
    "    print(numCols)\n",
    "    resArray = np.zeros((numRows,numCols))\n",
    "    for i in range(len(messages)):\n",
    "        message = messages[i]\n",
    "        for word in message:\n",
    "            if(word in word_dictionary):\n",
    "                col = word_dictionary[word]\n",
    "                resArray[i][col] +=1\n",
    "    return resArray"
   ]
  },
  {
   "cell_type": "code",
   "execution_count": 11,
   "metadata": {},
   "outputs": [],
   "source": [
    "def loadTrainTestDataSet():\n",
    "    train_review_path = './data/train.review.txt'\n",
    "    train_rate_path = './data/train.rating.txt'\n",
    "    dev_review_path = './data/dev.review.txt'\n",
    "    dev_rate_path = './data/dev.rating.txt'\n",
    "    test_review_path = './data/test.review.txt'\n",
    "    test_rate_path = './data/test.rating.txt'\n",
    "    review_path = './data/review_full.txt'\n",
    "    rate_path = './data/rate_full.txt'\n",
    "    messages = load_review_dataset(review_path)\n",
    "    word_dict = getAverageGloveFromDict(messages)\n",
    "\n",
    "    train_messages = load_review_dataset(train_review_path)\n",
    "    train_resArray = transform_text(train_messages, word_dict)\n",
    "    dev_messages = load_review_dataset(dev_review_path)\n",
    "    dev_resArray = transform_text(dev_messages, word_dict)\n",
    "    test_messages = load_review_dataset(test_review_path)\n",
    "    test_resArray = transform_text(test_messages, word_dict)\n",
    "\n",
    "    # resArray = transform_text(messages, word_dict)\n",
    "    # print('res array shape ',resArray.shape)\n",
    "    # glove = getAverageGlove(messages)\n",
    "    # print('glove', glove.shape)\n",
    "    # To construct the training dataset\n",
    "    # numOfDataPoints = len(resArray)\n",
    "    # numOfTraining = int(numOfDataPoints * 0.8)\n",
    "    trainingDataX = train_resArray[:, ]\n",
    "    testDataX = test_resArray[:, ]\n",
    "    trainRateY = pd.read_csv(train_rate_path, header=None)\n",
    "    testRateY = pd.read_csv(test_rate_path, header=None)\n",
    "    # print(len(traRateY))\n",
    "    trainingRateY = trainRateY[:][0]\n",
    "    testRateY = testRateY[:][0]\n",
    "    return (trainingDataX,trainingRateY,testDataX,testRateY)"
   ]
  },
  {
   "cell_type": "code",
   "execution_count": 12,
   "metadata": {},
   "outputs": [],
   "source": [
    "def main():\n",
    "    X_train,y_train,X_test,y_test = loadTrainTestDataSet()\n",
    "    batch_size = 32\n",
    "    buildModel(X_train, y_train, X_test, y_test, batch_size)\n",
    "    "
   ]
  },
  {
   "cell_type": "code",
   "execution_count": 13,
   "metadata": {},
   "outputs": [
    {
     "ename": "TypeError",
     "evalue": "'type' object is not subscriptable",
     "traceback": [
      "\u001b[0;31m---------------------------------------------------------------------------\u001b[0m",
      "\u001b[0;31mTypeError\u001b[0m                                 Traceback (most recent call last)",
      "\u001b[0;32m<ipython-input-13-263240bbee7e>\u001b[0m in \u001b[0;36m<module>\u001b[0;34m()\u001b[0m\n\u001b[0;32m----> 1\u001b[0;31m \u001b[0mmain\u001b[0m\u001b[0;34m(\u001b[0m\u001b[0;34m)\u001b[0m\u001b[0;34m\u001b[0m\u001b[0m\n\u001b[0m",
      "\u001b[0;32m<ipython-input-12-f6409b99ea16>\u001b[0m in \u001b[0;36mmain\u001b[0;34m()\u001b[0m\n\u001b[1;32m      1\u001b[0m \u001b[0;32mdef\u001b[0m \u001b[0mmain\u001b[0m\u001b[0;34m(\u001b[0m\u001b[0;34m)\u001b[0m\u001b[0;34m:\u001b[0m\u001b[0;34m\u001b[0m\u001b[0m\n\u001b[0;32m----> 2\u001b[0;31m     \u001b[0mX_train\u001b[0m\u001b[0;34m,\u001b[0m\u001b[0my_train\u001b[0m\u001b[0;34m,\u001b[0m\u001b[0mX_test\u001b[0m\u001b[0;34m,\u001b[0m\u001b[0my_test\u001b[0m \u001b[0;34m=\u001b[0m \u001b[0mloadTrainTestDataSet\u001b[0m\u001b[0;34m(\u001b[0m\u001b[0;34m)\u001b[0m\u001b[0;34m\u001b[0m\u001b[0m\n\u001b[0m\u001b[1;32m      3\u001b[0m     \u001b[0mbatch_size\u001b[0m \u001b[0;34m=\u001b[0m \u001b[0;36m32\u001b[0m\u001b[0;34m\u001b[0m\u001b[0m\n\u001b[1;32m      4\u001b[0m     \u001b[0mbuildModel\u001b[0m\u001b[0;34m(\u001b[0m\u001b[0mX_train\u001b[0m\u001b[0;34m,\u001b[0m \u001b[0my_train\u001b[0m\u001b[0;34m,\u001b[0m \u001b[0mX_test\u001b[0m\u001b[0;34m,\u001b[0m \u001b[0my_test\u001b[0m\u001b[0;34m,\u001b[0m \u001b[0mbatch_size\u001b[0m\u001b[0;34m)\u001b[0m\u001b[0;34m\u001b[0m\u001b[0m\n\u001b[1;32m      5\u001b[0m \u001b[0;34m\u001b[0m\u001b[0m\n",
      "\u001b[0;32m<ipython-input-11-8a600d95ad67>\u001b[0m in \u001b[0;36mloadTrainTestDataSet\u001b[0;34m()\u001b[0m\n\u001b[1;32m      9\u001b[0m     \u001b[0mrate_path\u001b[0m \u001b[0;34m=\u001b[0m \u001b[0;34m'./data/rate_full.txt'\u001b[0m\u001b[0;34m\u001b[0m\u001b[0m\n\u001b[1;32m     10\u001b[0m     \u001b[0mmessages\u001b[0m \u001b[0;34m=\u001b[0m \u001b[0mload_review_dataset\u001b[0m\u001b[0;34m(\u001b[0m\u001b[0mreview_path\u001b[0m\u001b[0;34m)\u001b[0m\u001b[0;34m\u001b[0m\u001b[0m\n\u001b[0;32m---> 11\u001b[0;31m     \u001b[0mword_dict\u001b[0m \u001b[0;34m=\u001b[0m \u001b[0mgetAverageGloveFromDict\u001b[0m\u001b[0;34m(\u001b[0m\u001b[0mmessages\u001b[0m\u001b[0;34m)\u001b[0m\u001b[0;34m\u001b[0m\u001b[0m\n\u001b[0m\u001b[1;32m     12\u001b[0m \u001b[0;34m\u001b[0m\u001b[0m\n\u001b[1;32m     13\u001b[0m     \u001b[0mtrain_messages\u001b[0m \u001b[0;34m=\u001b[0m \u001b[0mload_review_dataset\u001b[0m\u001b[0;34m(\u001b[0m\u001b[0mtrain_review_path\u001b[0m\u001b[0;34m)\u001b[0m\u001b[0;34m\u001b[0m\u001b[0m\n",
      "\u001b[0;32m<ipython-input-9-c244f6bcc65a>\u001b[0m in \u001b[0;36mgetAverageGloveFromDict\u001b[0;34m(messages)\u001b[0m\n\u001b[1;32m      8\u001b[0m     \u001b[0mresArrays\u001b[0m \u001b[0;34m=\u001b[0m \u001b[0mnp\u001b[0m\u001b[0;34m.\u001b[0m\u001b[0mzeros\u001b[0m\u001b[0;34m(\u001b[0m\u001b[0;34m[\u001b[0m\u001b[0mnumRows\u001b[0m\u001b[0;34m,\u001b[0m\u001b[0;36m50\u001b[0m\u001b[0;34m]\u001b[0m\u001b[0;34m)\u001b[0m\u001b[0;34m\u001b[0m\u001b[0m\n\u001b[1;32m      9\u001b[0m     \u001b[0;31m#Build the word dict from glove first\u001b[0m\u001b[0;34m\u001b[0m\u001b[0;34m\u001b[0m\u001b[0m\n\u001b[0;32m---> 10\u001b[0;31m     \u001b[0mgloveDict\u001b[0m \u001b[0;34m=\u001b[0m \u001b[0mloadGloveToDict\u001b[0m\u001b[0;34m(\u001b[0m\u001b[0;34m)\u001b[0m\u001b[0;34m\u001b[0m\u001b[0m\n\u001b[0m\u001b[1;32m     11\u001b[0m     \u001b[0;32mfor\u001b[0m \u001b[0mi\u001b[0m \u001b[0;32min\u001b[0m \u001b[0mrange\u001b[0m\u001b[0;34m(\u001b[0m\u001b[0mnumRows\u001b[0m\u001b[0;34m)\u001b[0m\u001b[0;34m:\u001b[0m\u001b[0;34m\u001b[0m\u001b[0m\n\u001b[1;32m     12\u001b[0m         \u001b[0mmessage\u001b[0m \u001b[0;34m=\u001b[0m \u001b[0mmessages\u001b[0m\u001b[0;34m[\u001b[0m\u001b[0mi\u001b[0m\u001b[0;34m]\u001b[0m\u001b[0;34m\u001b[0m\u001b[0m\n",
      "\u001b[0;32m<ipython-input-7-7582bedea643>\u001b[0m in \u001b[0;36mloadGloveToDict\u001b[0;34m(filePath)\u001b[0m\n\u001b[1;32m      5\u001b[0m     \u001b[0;32mas\u001b[0m \u001b[0mthe\u001b[0m \u001b[0mvalue\u001b[0m\u001b[0;34m(\u001b[0m\u001b[0man\u001b[0m \u001b[0marray\u001b[0m\u001b[0;34m)\u001b[0m\u001b[0;34m.\u001b[0m\u001b[0;34m\u001b[0m\u001b[0m\n\u001b[1;32m      6\u001b[0m     \"\"\"\n\u001b[0;32m----> 7\u001b[0;31m     \u001b[0mres\u001b[0m \u001b[0;34m=\u001b[0m \u001b[0mcollections\u001b[0m\u001b[0;34m.\u001b[0m\u001b[0mdefaultdict\u001b[0m\u001b[0;34m[\u001b[0m\u001b[0mlist\u001b[0m\u001b[0;34m]\u001b[0m\u001b[0;34m\u001b[0m\u001b[0m\n\u001b[0m\u001b[1;32m      8\u001b[0m     \u001b[0;32mwith\u001b[0m \u001b[0mopen\u001b[0m\u001b[0;34m(\u001b[0m\u001b[0mfilePath\u001b[0m\u001b[0;34m)\u001b[0m \u001b[0;32mas\u001b[0m \u001b[0mf\u001b[0m\u001b[0;34m:\u001b[0m\u001b[0;34m\u001b[0m\u001b[0m\n\u001b[1;32m      9\u001b[0m         \u001b[0;32mfor\u001b[0m \u001b[0mline\u001b[0m \u001b[0;32min\u001b[0m \u001b[0mf\u001b[0m\u001b[0;34m:\u001b[0m\u001b[0;34m\u001b[0m\u001b[0m\n",
      "\u001b[0;31mTypeError\u001b[0m: 'type' object is not subscriptable"
     ],
     "output_type": "error"
    }
   ],
   "source": [
    "main()"
   ]
  },
  {
   "cell_type": "code",
   "execution_count": null,
   "metadata": {},
   "outputs": [],
   "source": []
  }
 ],
 "metadata": {
  "kernelspec": {
   "display_name": "Python 3",
   "language": "python",
   "name": "python3"
  },
  "language_info": {
   "codemirror_mode": {
    "name": "ipython",
    "version": 3
   },
   "file_extension": ".py",
   "mimetype": "text/x-python",
   "name": "python",
   "nbconvert_exporter": "python",
   "pygments_lexer": "ipython3",
   "version": "3.6.4"
  }
 },
 "nbformat": 4,
 "nbformat_minor": 2
}
